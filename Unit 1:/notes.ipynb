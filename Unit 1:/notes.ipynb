{
 "cells": [
  {
   "cell_type": "markdown",
   "id": "03f6bb23",
   "metadata": {},
   "source": [
    "## Working with Python Variables"
   ]
  },
  {
   "cell_type": "markdown",
   "id": "8b4657ce",
   "metadata": {},
   "source": [
    "Structure of creating a variable\n",
    "[variable_name] [assignment operator] [value]\n",
    "myVar = \"blah\"\n",
    "\n",
    "### What are the data types in Python\n",
    "1. Strings - anything inside of \"\" or ''\n",
    "2. Booleans - True or False\n",
    "3. Integers - whole numbers even or odd\n",
    "4. Floats - any number with a decimal"
   ]
  },
  {
   "cell_type": "code",
   "execution_count": 4,
   "id": "b2e03c5b",
   "metadata": {},
   "outputs": [
    {
     "name": "stdout",
     "output_type": "stream",
     "text": [
      "3.9\n"
     ]
    }
   ],
   "source": [
    "# Variable Reassignment\n",
    "\n",
    "# A studen's GPA throughout high school \n",
    "student_gpa = 3.2 # Freshman year\n",
    "\n",
    "student_gpa = 3.4 # sophmore year\n",
    "\n",
    "student_gpa = 3.7 # Junior year\n",
    "\n",
    "student_gpa = 3.9 # Senior year\n",
    "print(student_gpa)\n",
    "\n",
    "# OUTPUT: 3.9\n",
    "\n",
    "# If you need to store all data\n",
    "student_gpa_freshman = 3.2 # Freshman year\n",
    "\n",
    "student_gpa_sophmore = 3.4 # sophmore year\n",
    "\n",
    "student_gpa_junior = 3.7 # Junior year\n",
    "\n",
    "student_gpa_senior = 3.9 # Senior year"
   ]
  },
  {
   "cell_type": "code",
   "execution_count": 6,
   "id": "aecaadc1",
   "metadata": {},
   "outputs": [
    {
     "name": "stdout",
     "output_type": "stream",
     "text": [
      "True\n"
     ]
    }
   ],
   "source": [
    "# Sports Team Statistics\n",
    "\n",
    "# basketball team variables\n",
    "team_name = \"Riverside Ravens\"\n",
    "wins = 18\n",
    "loses = 7\n",
    "points_scored = 1456\n",
    "points_allowed = 1298\n",
    "leading_scorer = \"Jordan Thompson\"\n",
    "average_points_per_game = 58.2\n",
    "championship_contender = True\n",
    "\n",
    "print(championship_contender)"
   ]
  },
  {
   "cell_type": "markdown",
   "id": "403b6c39",
   "metadata": {},
   "source": []
  },
  {
   "cell_type": "code",
   "execution_count": 11,
   "id": "d42bd0b8",
   "metadata": {},
   "outputs": [
    {
     "name": "stdout",
     "output_type": "stream",
     "text": [
      "Xaiden\n"
     ]
    }
   ],
   "source": [
    "# The input function \n",
    "\n",
    "#input(\"Enter your first name: \")\n",
    "\n",
    "firstName = input(\"Enter your first name: \")\n",
    "\n",
    "print(firstName)"
   ]
  },
  {
   "cell_type": "markdown",
   "id": "01e2154d",
   "metadata": {},
   "source": [
    "## 4 Main Computational Process\n",
    "\n",
    "- Input\n",
    "- Processing\n",
    "- Output\n",
    "- Storage (Memory)"
   ]
  },
  {
   "cell_type": "markdown",
   "id": "085195f1",
   "metadata": {},
   "source": [
    "## Strings, Assignments, and comments\n",
    "\n",
    "**Data Types** - consists of a set of values and a set of operations that can be preforemed on those values\n",
    "\n",
    "A **Literal** - is the way a value of a data type looks to a programmer\n",
    "\n",
    "<table>\n",
    "    <tr>\n",
    "        <th>Type of Data</th>\n",
    "        <th>Python Type Name</th>\n",
    "        <th>Example Literals</th>\n",
    "    </tr>\n",
    "    <tr>\n",
    "        <td>Integers</td>\n",
    "        <td>Int</td>\n",
    "        <td>-1, 0, 1, 365, -1457325</td>\n",
    "    </tr>\n",
    "    <tr>\n",
    "        <td>Real Numbers</td>\n",
    "        <td>Floats</td>\n",
    "        <td>-0.55, .3333, 3.14, 6.0, .5, 5.</td>\n",
    "    </tr>\n",
    "    <tr>\n",
    "        <td>Character Strings</td>\n",
    "        <td>Str</td>\n",
    "        <td>\"Hello\", \"\", \" \", 'A' \"675\"</td>\n",
    "    </tr>\n",
    "</table>"
   ]
  },
  {
   "cell_type": "code",
   "execution_count": 2,
   "id": "ace014d6",
   "metadata": {},
   "outputs": [
    {
     "name": "stdout",
     "output_type": "stream",
     "text": [
      "Hello there!\n",
      "675\n"
     ]
    }
   ],
   "source": [
    "hello = 'Hello there!'\n",
    "myInt = 675\n",
    "print(hello) # Literal is: Hello There!\n",
    "print(myInt) # Literal is: 675"
   ]
  },
  {
   "cell_type": "markdown",
   "id": "b6ead84d",
   "metadata": {},
   "source": [
    "## Escape Sequences\n",
    "\n",
    "**Escape Sequence** - The way python expresses special characters, such as the tab, the newline, and the backspace as literals.\n",
    "\n",
    "<table>\n",
    "    <tr>\n",
    "        <th>Excape Sequence</th>\n",
    "        <th>Meaning</th>\n",
    "    </tr>\n",
    "    <tr>\n",
    "        <td>\\b</td>\n",
    "        <td>Backspace</td>\n",
    "    </tr>\n",
    "     <tr>\n",
    "        <td>\\n</td>\n",
    "        <td>New Line</td>\n",
    "    </tr>\n",
    "     <tr>\n",
    "        <td>\\t</td>\n",
    "        <td>Horizontal Tab</td>\n",
    "    </tr>\n",
    "     <tr>\n",
    "        <td>\\\\</td>\n",
    "        <td>The \\ character</td>\n",
    "    </tr>\n",
    "     <tr>\n",
    "        <td>\\'</td>\n",
    "        <td>Single Quotation mark</td>\n",
    "    </tr>\n",
    "     <tr>\n",
    "        <td>\\\"</td>\n",
    "        <td>Double Quotation mark</td>\n",
    "    </tr>\n",
    "</table>"
   ]
  },
  {
   "cell_type": "code",
   "execution_count": null,
   "id": "28678d03",
   "metadata": {},
   "outputs": [],
   "source": []
  }
 ],
 "metadata": {
  "kernelspec": {
   "display_name": "Python 3",
   "language": "python",
   "name": "python3"
  },
  "language_info": {
   "codemirror_mode": {
    "name": "ipython",
    "version": 3
   },
   "file_extension": ".py",
   "mimetype": "text/x-python",
   "name": "python",
   "nbconvert_exporter": "python",
   "pygments_lexer": "ipython3",
   "version": "3.12.1"
  }
 },
 "nbformat": 4,
 "nbformat_minor": 5
}
