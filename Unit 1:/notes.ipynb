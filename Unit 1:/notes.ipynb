{
 "cells": [
  {
   "cell_type": "markdown",
   "id": "03f6bb23",
   "metadata": {},
   "source": [
    "## Working with Python Variables"
   ]
  },
  {
   "cell_type": "markdown",
   "id": "8b4657ce",
   "metadata": {},
   "source": [
    "Structure of creating a variable\n",
    "[variable_name] [assignment operator] [value]\n",
    "myVar = \"blah\"\n",
    "\n",
    "### What are the data types in Python\n",
    "1. Strings - anything inside of \"\" or ''\n",
    "2. Booleans - True or False\n",
    "3. Integers - whole numbers even or odd\n",
    "4. Floats - any number with a decimal"
   ]
  },
  {
   "cell_type": "code",
   "execution_count": 26,
   "id": "b2e03c5b",
   "metadata": {},
   "outputs": [
    {
     "name": "stdout",
     "output_type": "stream",
     "text": [
      "3.9\n"
     ]
    }
   ],
   "source": [
    "# Variable Reassignment\n",
    "\n",
    "# A studen's GPA throughout high school \n",
    "student_gpa = 3.2 # Freshman year\n",
    "\n",
    "student_gpa = 3.4 # sophmore year\n",
    "\n",
    "student_gpa = 3.7 # Junior year\n",
    "\n",
    "student_gpa = 3.9 # Senior year\n",
    "print(student_gpa)\n",
    "\n",
    "# OUTPUT: 3.9\n",
    "\n",
    "# If you need to store all data\n",
    "student_gpa_freshman = 3.2 # Freshman year\n",
    "\n",
    "student_gpa_sophmore = 3.4 # sophmore year\n",
    "\n",
    "student_gpa_junior = 3.7 # Junior year\n",
    "\n",
    "student_gpa_senior = 3.9 # Senior year"
   ]
  },
  {
   "cell_type": "code",
   "execution_count": 27,
   "id": "aecaadc1",
   "metadata": {},
   "outputs": [
    {
     "name": "stdout",
     "output_type": "stream",
     "text": [
      "True\n"
     ]
    }
   ],
   "source": [
    "# Sports Team Statistics\n",
    "\n",
    "# basketball team variables\n",
    "team_name = \"Riverside Ravens\"\n",
    "wins = 18\n",
    "loses = 7\n",
    "points_scored = 1456\n",
    "points_allowed = 1298\n",
    "leading_scorer = \"Jordan Thompson\"\n",
    "average_points_per_game = 58.2\n",
    "championship_contender = True\n",
    "\n",
    "print(championship_contender)"
   ]
  },
  {
   "cell_type": "markdown",
   "id": "403b6c39",
   "metadata": {},
   "source": []
  },
  {
   "cell_type": "code",
   "execution_count": 28,
   "id": "d42bd0b8",
   "metadata": {},
   "outputs": [
    {
     "name": "stdout",
     "output_type": "stream",
     "text": [
      "1\n"
     ]
    }
   ],
   "source": [
    "# The input function \n",
    "\n",
    "#input(\"Enter your first name: \")\n",
    "\n",
    "firstName = input(\"Enter your first name: \")\n",
    "\n",
    "print(firstName)"
   ]
  },
  {
   "cell_type": "markdown",
   "id": "01e2154d",
   "metadata": {},
   "source": [
    "## 4 Main Computational Process\n",
    "\n",
    "- Input\n",
    "- Processing\n",
    "- Output\n",
    "- Storage (Memory)"
   ]
  },
  {
   "cell_type": "markdown",
   "id": "085195f1",
   "metadata": {},
   "source": [
    "## Strings, Assignments, and comments\n",
    "\n",
    "**Data Types** - consists of a set of values and a set of operations that can be preforemed on those values\n",
    "\n",
    "A **Literal** - is the way a value of a data type looks to a programmer\n",
    "\n",
    "<table>\n",
    "    <tr>\n",
    "        <th>Type of Data</th>\n",
    "        <th>Python Type Name</th>\n",
    "        <th>Example Literals</th>\n",
    "    </tr>\n",
    "    <tr>\n",
    "        <td>Integers</td>\n",
    "        <td>Int</td>\n",
    "        <td>-1, 0, 1, 365, -1457325</td>\n",
    "    </tr>\n",
    "    <tr>\n",
    "        <td>Real Numbers</td>\n",
    "        <td>Floats</td>\n",
    "        <td>-0.55, .3333, 3.14, 6.0, .5, 5.</td>\n",
    "    </tr>\n",
    "    <tr>\n",
    "        <td>Character Strings</td>\n",
    "        <td>Str</td>\n",
    "        <td>\"Hello\", \"\", \" \", 'A' \"675\"</td>\n",
    "    </tr>\n",
    "</table>"
   ]
  },
  {
   "cell_type": "code",
   "execution_count": 29,
   "id": "ace014d6",
   "metadata": {},
   "outputs": [
    {
     "name": "stdout",
     "output_type": "stream",
     "text": [
      "Hello there!\n",
      "675\n"
     ]
    }
   ],
   "source": [
    "hello = 'Hello there!'\n",
    "myInt = 675\n",
    "print(hello) # Literal is: Hello There!\n",
    "print(myInt) # Literal is: 675"
   ]
  },
  {
   "cell_type": "markdown",
   "id": "b6ead84d",
   "metadata": {},
   "source": [
    "## Escape Sequences\n",
    "\n",
    "**Escape Sequence** - The way python expresses special characters, such as the tab, the newline, and the backspace as literals.\n",
    "\n",
    "<table>\n",
    "    <tr>\n",
    "        <th>Excape Sequence</th>\n",
    "        <th>Meaning</th>\n",
    "    </tr>\n",
    "    <tr>\n",
    "        <td>\\b</td>\n",
    "        <td>Backspace</td>\n",
    "    </tr>\n",
    "     <tr>\n",
    "        <td>\\n</td>\n",
    "        <td>New Line</td>\n",
    "    </tr>\n",
    "     <tr>\n",
    "        <td>\\t</td>\n",
    "        <td>Horizontal Tab</td>\n",
    "    </tr>\n",
    "     <tr>\n",
    "        <td>\\\\</td>\n",
    "        <td>The \\ character</td>\n",
    "    </tr>\n",
    "     <tr>\n",
    "        <td>\\'</td>\n",
    "        <td>Single Quotation mark</td>\n",
    "    </tr>\n",
    "     <tr>\n",
    "        <td>\\\"</td>\n",
    "        <td>Double Quotation mark</td>\n",
    "    </tr>\n",
    "</table>"
   ]
  },
  {
   "cell_type": "markdown",
   "id": "61bd7636",
   "metadata": {},
   "source": [
    "## Initializing a Variable or Constant\n",
    "\n",
    "**Initializing** - This is the process of creating a variable and setting it to a default value"
   ]
  },
  {
   "cell_type": "markdown",
   "id": "d7b0d4d0",
   "metadata": {},
   "source": [
    "## Formatting Text for Output\n",
    "\n",
    "- This process is for presenting required output in tabular format\n",
    "- **feild Width** - total number of data characters and additional spaces for a given datum in a formatted string\n",
    "- **%** = format operator \n",
    "- **%6s** = format string"
   ]
  },
  {
   "cell_type": "code",
   "execution_count": 30,
   "id": "28678d03",
   "metadata": {},
   "outputs": [
    {
     "name": "stdout",
     "output_type": "stream",
     "text": [
      "7 10000000\n",
      "8 100000000\n",
      "9 1000000000\n",
      "10 10000000000\n"
     ]
    }
   ],
   "source": [
    "for exponent in range (7, 11):\n",
    "    print(exponent, 10 ** exponent)"
   ]
  },
  {
   "cell_type": "code",
   "execution_count": 31,
   "id": "1f29f25e",
   "metadata": {},
   "outputs": [
    {
     "name": "stdout",
     "output_type": "stream",
     "text": [
      "four\n",
      "  four\n",
      "four  \n"
     ]
    }
   ],
   "source": [
    "print(\"four\")\n",
    "print(\"%6s\" % \"four\") # Right Justify\n",
    "print(\"%-6s\" % \"four\" ) # Left Justify"
   ]
  },
  {
   "cell_type": "markdown",
   "id": "c85f11c3",
   "metadata": {},
   "source": [
    "## Define Iteration\n",
    "\n",
    "Repeating an action or process a predefined number of times. Also known as a specific type of iteration: **Definite Iteration**\n",
    "\n",
    "Perform an action or process until the program determines that it needs to stop: **Indefinite Iteration**\n",
    "\n",
    "#### Each of these Iterations uses a different type of Loop\n",
    "\n",
    "Definite Iteration --> for Loop\n",
    "Indefinite Iteration --> while Loop"
   ]
  },
  {
   "cell_type": "code",
   "execution_count": 32,
   "id": "f3226532",
   "metadata": {},
   "outputs": [
    {
     "name": "stdout",
     "output_type": "stream",
     "text": [
      "It's alive! It's alive! It's alive! It's alive! "
     ]
    }
   ],
   "source": [
    "# Execute a statement a given number of times \n",
    "\n",
    "for eachPass in range(4): # Iterate through the conained code 4 times\n",
    "    print(\"It's alive!\", end = \" \")\n",
    "    # Each time through the loop, counting 0 - 3\n",
    "    # Print It's alive! followed by a blank space\n"
   ]
  },
  {
   "cell_type": "markdown",
   "id": "e71c909d",
   "metadata": {},
   "source": [
    "## The Structure of a for Loop\n",
    "\n",
    "for (variable) in range(an integer expression): \n",
    "    <br>&nbsp;&nbsp;&nbsp;&nbsp;&nbsp;repeat any number of statements \n",
    "\n",
    "**loop header** - the line that starts with 'for' <br>\n",
    "**loop body** - comprises the statements in the remaining lines of code, below the header"
   ]
  },
  {
   "cell_type": "markdown",
   "id": "592bb5bc",
   "metadata": {},
   "source": [
    "## Python's exponation operator"
   ]
  },
  {
   "cell_type": "code",
   "execution_count": 33,
   "id": "3c2bb339",
   "metadata": {},
   "outputs": [
    {
     "name": "stdout",
     "output_type": "stream",
     "text": [
      "\n",
      " The Variable product is currently:  1\n",
      "2 4 8 \n",
      " The Variable product is now:  8\n"
     ]
    }
   ],
   "source": [
    "# Exponant Example\n",
    "\n",
    "number = 2\n",
    "exponent = 3\n",
    "product = 1\n",
    "\n",
    "print(\"\\n The Variable product is currently: \", product)\n",
    "\n",
    "for eachPass in range(exponent):\n",
    "    product = product * number\n",
    "    print(product, end= \" \")\n",
    "\n",
    "print(\"\\n The Variable product is now: \", product)"
   ]
  },
  {
   "cell_type": "markdown",
   "id": "d00778f7",
   "metadata": {},
   "source": [
    "## Count-controlled Loops\n",
    "\n",
    "**Count-Controlled Loops** - Loops that count through a range of numbers"
   ]
  },
  {
   "cell_type": "code",
   "execution_count": 34,
   "id": "5092e625",
   "metadata": {},
   "outputs": [
    {
     "name": "stdout",
     "output_type": "stream",
     "text": [
      "0 1 2 3 "
     ]
    }
   ],
   "source": [
    "for count in range(4):\n",
    "    print(count, end=\" \")"
   ]
  },
  {
   "cell_type": "code",
   "execution_count": 35,
   "id": "6d865f2a",
   "metadata": {},
   "outputs": [
    {
     "name": "stdout",
     "output_type": "stream",
     "text": [
      "1 2 6 24 "
     ]
    }
   ],
   "source": [
    "product = 1 # Initializing a counter\n",
    "\n",
    "for count in range(4):\n",
    "    product = product * (count + 1) # Off by 1 error \n",
    "    print(product, end= \" \")"
   ]
  },
  {
   "cell_type": "markdown",
   "id": "079e7503",
   "metadata": {},
   "source": [
    "## Loop through a range of numbers:"
   ]
  },
  {
   "cell_type": "code",
   "execution_count": 36,
   "id": "e92471c0",
   "metadata": {},
   "outputs": [
    {
     "name": "stdout",
     "output_type": "stream",
     "text": [
      "1 2 6 24 "
     ]
    }
   ],
   "source": [
    "product = 1\n",
    "\n",
    "for count in range(1, 5): # (1, 5) - start in 1, 1 is the first number in the sequence\n",
    "                                    # 5 is the first number NOT in the sequence\n",
    "    product = product * count\n",
    "    print(product, end= \" \")"
   ]
  },
  {
   "cell_type": "markdown",
   "id": "037e806e",
   "metadata": {},
   "source": [
    "## Loop Head structure with lower and upper bounds\n",
    "\n",
    "for (variable) in range(lower bound, upper bound + 1):"
   ]
  },
  {
   "cell_type": "code",
   "execution_count": 37,
   "id": "d9688db2",
   "metadata": {},
   "outputs": [
    {
     "name": "stdout",
     "output_type": "stream",
     "text": [
      "5\n"
     ]
    }
   ],
   "source": [
    "lower = int(input(\"Enter the lower bound: \"))\n",
    "upper = int(input(\"Enter the upper bound: \"))\n",
    "\n",
    "theSum = 0 # Notice, we create theSum, because sum is a python keyword\n",
    "\n",
    "for number in range(lower, upper + 1):\n",
    "    theSum = theSum + number\n",
    "\n",
    "print(theSum)"
   ]
  },
  {
   "cell_type": "markdown",
   "id": "b66b948c",
   "metadata": {},
   "source": [
    "## Augmented  Assignment"
   ]
  },
  {
   "cell_type": "markdown",
   "id": "78aa6b59",
   "metadata": {},
   "source": [
    "**Augmented Assignment** - When the assignment symbol can be combined with the arithmetic and concatination operators\n",
    "\n",
    "Structure: \n",
    "(variable) (operator)= (expression)"
   ]
  },
  {
   "cell_type": "code",
   "execution_count": 38,
   "id": "fe891881",
   "metadata": {},
   "outputs": [
    {
     "name": "stdout",
     "output_type": "stream",
     "text": [
      "20\n",
      "60\n",
      "0\n"
     ]
    }
   ],
   "source": [
    "a = 17\n",
    "s = \"Hi\"\n",
    "a += 3      # equivalent to = is a = a +3\n",
    "print(a)\n",
    "\n",
    "a *= 3      # equivalent to a = a * 3\n",
    "print(a)\n",
    "\n",
    "a %= 3      # equivalent to a = a % 3\n",
    "print(a)"
   ]
  },
  {
   "cell_type": "code",
   "execution_count": 39,
   "id": "9399aaa0",
   "metadata": {},
   "outputs": [
    {
     "name": "stdout",
     "output_type": "stream",
     "text": [
      "Hi there!\n"
     ]
    }
   ],
   "source": [
    "s += \" there!\" # equivalent to s = s + \" there\"\n",
    "print(s)"
   ]
  },
  {
   "cell_type": "markdown",
   "id": "59db23a0",
   "metadata": {},
   "source": [
    "## Loop Errors: Off-By-One Error"
   ]
  },
  {
   "cell_type": "markdown",
   "id": "4ba88156",
   "metadata": {},
   "source": [
    "**Off-By-One Error** - these are errors that result when the programmer incorrectly specifies the upper bound for a loop"
   ]
  },
  {
   "cell_type": "code",
   "execution_count": 40,
   "id": "f0cc4071",
   "metadata": {},
   "outputs": [
    {
     "name": "stdout",
     "output_type": "stream",
     "text": [
      "1\n",
      "2\n",
      "3\n",
      "4\n"
     ]
    }
   ],
   "source": [
    "# Count from 1 through 4, we think\n",
    "\n",
    "for count in range(1, 5):\n",
    "    print(count)"
   ]
  },
  {
   "cell_type": "markdown",
   "id": "441e0bab",
   "metadata": {},
   "source": [
    "## Traversing the contents of a Data Sequence"
   ]
  },
  {
   "cell_type": "code",
   "execution_count": 42,
   "id": "6af41b75",
   "metadata": {},
   "outputs": [
    {
     "name": "stdout",
     "output_type": "stream",
     "text": [
      "[0, 1, 2, 3]\n",
      "[1, 2, 3, 4]\n"
     ]
    }
   ],
   "source": [
    "print(list(range(4)))\n",
    "print(list(range(1,5)))"
   ]
  },
  {
   "cell_type": "code",
   "execution_count": 2,
   "id": "3d06f044",
   "metadata": {},
   "outputs": [
    {
     "name": "stdout",
     "output_type": "stream",
     "text": [
      "6 4 8 \n",
      " 1 \n",
      " 2 \n",
      " 3 \n",
      " 4 \n",
      " 5 "
     ]
    }
   ],
   "source": [
    "# Use something other than the range function in the loop head\n",
    "\n",
    "list1 = [1, 2, 3, 4, 5]\n",
    "\n",
    "for number in [6, 4, 8]:\n",
    "    print(number, end= ' ')\n",
    "    \n",
    "for number in list1:\n",
    "    print(\"\\n\", number, end=' ')"
   ]
  },
  {
   "cell_type": "code",
   "execution_count": null,
   "id": "bb26031c",
   "metadata": {},
   "outputs": [
    {
     "name": "stdout",
     "output_type": "stream",
     "text": [
      "H i   t h e r e ! "
     ]
    }
   ],
   "source": [
    "for charcter in \"Hi, there!\":\n",
    "    print(charcter, end=\" \")"
   ]
  },
  {
   "cell_type": "markdown",
   "id": "c76ee3d7",
   "metadata": {},
   "source": [
    "## Specifying the steps in the range\n",
    "\n",
    "Another variant of the pythong range() funtion, allows us ti enter 3 values as arguments\n",
    "\n",
    "range(bal1, val2, val3)\n",
    "val1 - Is the first value in the range\n",
    "val2 - The first value NOT in the range. (val2- val1)\n",
    "val3 - The Step Value - is the interval between the numbers used in the range"
   ]
  },
  {
   "cell_type": "code",
   "execution_count": 6,
   "id": "2c0edb2d",
   "metadata": {},
   "outputs": [
    {
     "name": "stdout",
     "output_type": "stream",
     "text": [
      "[1, 2, 3, 4, 5]\n",
      "[1, 3, 5]\n",
      "[1, 4]\n"
     ]
    }
   ],
   "source": [
    "print(list(range(1, 6, 1))) # [1, 2, 3, 4, 5]\n",
    "print(list(range(1, 6, 2))) # [1, 3, 5]\n",
    "print(list(range(1, 6, 3))) # [1, 4]"
   ]
  },
  {
   "cell_type": "code",
   "execution_count": 8,
   "id": "00b4d1a2",
   "metadata": {},
   "outputs": [
    {
     "name": "stdout",
     "output_type": "stream",
     "text": [
      "30\n"
     ]
    }
   ],
   "source": [
    "# Lets suppose we want to compute a sum of the even numbers between 1 and 10\n",
    "theSum = 0\n",
    "for count in range(2, 11, 2):\n",
    "    theSum += count\n",
    "\n",
    "print(theSum)"
   ]
  },
  {
   "cell_type": "markdown",
   "id": "f5597f4d",
   "metadata": {},
   "source": [
    "## Loops That count down\n",
    "\n",
    "* Until now we have been counting Up based on what our range is."
   ]
  },
  {
   "cell_type": "code",
   "execution_count": 1,
   "id": "38c48d3b",
   "metadata": {},
   "outputs": [
    {
     "name": "stdout",
     "output_type": "stream",
     "text": [
      "10 9 8 7 6 5 4 3 2 1 "
     ]
    }
   ],
   "source": [
    "for count in range(10, 0, -1):\n",
    "    print(count, end= \" \")\n"
   ]
  },
  {
   "cell_type": "code",
   "execution_count": 2,
   "id": "aae1cade",
   "metadata": {},
   "outputs": [
    {
     "name": "stdout",
     "output_type": "stream",
     "text": [
      "[10, 9, 8, 7, 6, 5, 4, 3, 2, 1]\n"
     ]
    }
   ],
   "source": [
    "print(list(range(10, 0, -1)))"
   ]
  },
  {
   "cell_type": "markdown",
   "id": "da692699",
   "metadata": {},
   "source": [
    "## Back to Formatting Text for Output"
   ]
  },
  {
   "cell_type": "code",
   "execution_count": 3,
   "id": "5cad4ac5",
   "metadata": {},
   "outputs": [
    {
     "name": "stdout",
     "output_type": "stream",
     "text": [
      "7 10000000\n",
      "8 100000000\n",
      "9 1000000000\n",
      "10 10000000000\n"
     ]
    }
   ],
   "source": [
    "for exponent in range(7, 11):\n",
    "    print(exponent, 10 ** exponent)"
   ]
  },
  {
   "cell_type": "markdown",
   "id": "602ba412",
   "metadata": {},
   "source": [
    "### Format String and Format Operator"
   ]
  },
  {
   "cell_type": "code",
   "execution_count": 10,
   "id": "893de7f7",
   "metadata": {},
   "outputs": [
    {
     "name": "stdout",
     "output_type": "stream",
     "text": [
      "7      10000000\n",
      "8     100000000\n",
      "9    1000000000\n",
      "10  10000000000\n"
     ]
    }
   ],
   "source": [
    "# <format string> % <datum>\n",
    "\n",
    "for exponent in range(7, 11):\n",
    "    print(\"%-3d%12d\" % (exponent, 10 ** exponent))\n",
    "    # %-3d = first column in the data output - go back -3 spaces back from where the  first and second column meet - the feild justify left\n",
    "    # %12d = second column in the data output will be 12 characters wide (the Feild Width), everthing in the feild will justify right"
   ]
  },
  {
   "cell_type": "code",
   "execution_count": 14,
   "id": "d92dd00b",
   "metadata": {},
   "outputs": [
    {
     "name": "stdout",
     "output_type": "stream",
     "text": [
      "Your salary is $100.0\n",
      "Your salary is $ 100.00\n"
     ]
    }
   ],
   "source": [
    "salary = 100.00\n",
    "print(\"Your salary is $\" + str(salary))\n",
    "print(\"Your salary is $ %0.2f\" % salary)"
   ]
  },
  {
   "cell_type": "code",
   "execution_count": null,
   "id": "6e5dae12",
   "metadata": {},
   "outputs": [
    {
     "name": "stdout",
     "output_type": "stream",
     "text": [
      " 3.140\n"
     ]
    }
   ],
   "source": [
    "print(\"%6.3f\" % 3.14)\n",
    "# 6 total digits, with 3 digits after the decimal"
   ]
  }
 ],
 "metadata": {
  "kernelspec": {
   "display_name": "Python 3",
   "language": "python",
   "name": "python3"
  },
  "language_info": {
   "codemirror_mode": {
    "name": "ipython",
    "version": 3
   },
   "file_extension": ".py",
   "mimetype": "text/x-python",
   "name": "python",
   "nbconvert_exporter": "python",
   "pygments_lexer": "ipython3",
   "version": "3.12.1"
  }
 },
 "nbformat": 4,
 "nbformat_minor": 5
}
