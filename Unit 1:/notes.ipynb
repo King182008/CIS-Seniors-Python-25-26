{
 "cells": [
  {
   "cell_type": "markdown",
   "id": "03f6bb23",
   "metadata": {},
   "source": [
    "## Working with Python Variables"
   ]
  },
  {
   "cell_type": "markdown",
   "id": "8b4657ce",
   "metadata": {},
   "source": [
    "Structure of creating a variable\n",
    "[variable_name] [assignment operator] [value]\n",
    "myVar = \"blah\"\n",
    "\n",
    "### What are the data types in Python\n",
    "1. Strings - anything inside of \"\" or ''\n",
    "2. Booleans - True or False\n",
    "3. Integers - whole numbers even or odd\n",
    "4. Floats - any number with a decimal"
   ]
  },
  {
   "cell_type": "code",
   "execution_count": 4,
   "id": "b2e03c5b",
   "metadata": {},
   "outputs": [
    {
     "name": "stdout",
     "output_type": "stream",
     "text": [
      "3.9\n"
     ]
    }
   ],
   "source": [
    "# Variable Reassignment\n",
    "\n",
    "# A studen's GPA throughout high school \n",
    "student_gpa = 3.2 # Freshman year\n",
    "\n",
    "student_gpa = 3.4 # sophmore year\n",
    "\n",
    "student_gpa = 3.7 # Junior year\n",
    "\n",
    "student_gpa = 3.9 # Senior year\n",
    "print(student_gpa)\n",
    "\n",
    "# OUTPUT: 3.9\n",
    "\n",
    "# If you need to store all data\n",
    "student_gpa_freshman = 3.2 # Freshman year\n",
    "\n",
    "student_gpa_sophmore = 3.4 # sophmore year\n",
    "\n",
    "student_gpa_junior = 3.7 # Junior year\n",
    "\n",
    "student_gpa_senior = 3.9 # Senior year"
   ]
  },
  {
   "cell_type": "code",
   "execution_count": 6,
   "id": "aecaadc1",
   "metadata": {},
   "outputs": [
    {
     "name": "stdout",
     "output_type": "stream",
     "text": [
      "True\n"
     ]
    }
   ],
   "source": [
    "# Sports Team Statistics\n",
    "\n",
    "# basketball team variables\n",
    "team_name = \"Riverside Ravens\"\n",
    "wins = 18\n",
    "loses = 7\n",
    "points_scored = 1456\n",
    "points_allowed = 1298\n",
    "leading_scorer = \"Jordan Thompson\"\n",
    "average_points_per_game = 58.2\n",
    "championship_contender = True\n",
    "\n",
    "print(championship_contender)"
   ]
  },
  {
   "cell_type": "markdown",
   "id": "403b6c39",
   "metadata": {},
   "source": []
  }
 ],
 "metadata": {
  "kernelspec": {
   "display_name": "Python 3",
   "language": "python",
   "name": "python3"
  },
  "language_info": {
   "codemirror_mode": {
    "name": "ipython",
    "version": 3
   },
   "file_extension": ".py",
   "mimetype": "text/x-python",
   "name": "python",
   "nbconvert_exporter": "python",
   "pygments_lexer": "ipython3",
   "version": "3.12.1"
  }
 },
 "nbformat": 4,
 "nbformat_minor": 5
}
